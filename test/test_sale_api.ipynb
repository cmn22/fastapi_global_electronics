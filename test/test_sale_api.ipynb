{
 "cells": [
  {
   "cell_type": "code",
   "execution_count": 11,
   "id": "373949b1",
   "metadata": {},
   "outputs": [],
   "source": [
    "import requests\n",
    "import json\n",
    "\n",
    "url = 'http://127.0.0.1:8000/sales'"
   ]
  },
  {
   "cell_type": "markdown",
   "id": "7775e4e2",
   "metadata": {},
   "source": [
    "## Create a Sale"
   ]
  },
  {
   "cell_type": "code",
   "execution_count": 12,
   "id": "7a4cdae0",
   "metadata": {},
   "outputs": [
    {
     "name": "stdout",
     "output_type": "stream",
     "text": [
      "200 {'CustomerKey': 2096178, 'LineItem': 1, 'OrderDate': '2024-02-10', 'ProductKey': 5001, 'CurrencyCode': 'USD', 'OrderNumber': 1001, 'DeliveryDate': '2024-02-15', 'StoreKey': 15, 'Quantity': 2}\n"
     ]
    }
   ],
   "source": [
    "payload = {\n",
    "    \"OrderNumber\": 1001,\n",
    "    \"LineItem\": 1,\n",
    "    \"OrderDate\": \"2024-02-10\",\n",
    "    \"DeliveryDate\": \"2024-02-15\",\n",
    "    \"CustomerKey\": 2096178,\n",
    "    \"StoreKey\": 15,\n",
    "    \"ProductKey\": 5001,\n",
    "    \"Quantity\": 2,\n",
    "    \"CurrencyCode\": \"USD\"\n",
    "}\n",
    "response = requests.post(f\"{url}/\", json=payload)\n",
    "print(response.status_code, response.json())"
   ]
  },
  {
   "cell_type": "markdown",
   "id": "9627e84d",
   "metadata": {},
   "source": [
    "## Get All Sales"
   ]
  },
  {
   "cell_type": "code",
   "execution_count": 13,
   "id": "842b681b",
   "metadata": {},
   "outputs": [
    {
     "name": "stdout",
     "output_type": "stream",
     "text": [
      "200 [{'CustomerKey': 265598, 'LineItem': 1, 'OrderDate': '2016-01-01', 'ProductKey': 1304, 'CurrencyCode': 'CAD', 'OrderNumber': 366000, 'DeliveryDate': None, 'StoreKey': 10, 'Quantity': 1}, {'CustomerKey': 1269051, 'LineItem': 1, 'OrderDate': '2016-01-01', 'ProductKey': 1048, 'CurrencyCode': 'USD', 'OrderNumber': 366001, 'DeliveryDate': '2016-01-13', 'StoreKey': 0, 'Quantity': 2}, {'CustomerKey': 1269051, 'LineItem': 2, 'OrderDate': '2016-01-01', 'ProductKey': 2007, 'CurrencyCode': 'USD', 'OrderNumber': 366001, 'DeliveryDate': '2016-01-13', 'StoreKey': 0, 'Quantity': 1}, {'CustomerKey': 266019, 'LineItem': 1, 'OrderDate': '2016-01-01', 'ProductKey': 1106, 'CurrencyCode': 'CAD', 'OrderNumber': 366002, 'DeliveryDate': '2016-01-12', 'StoreKey': 0, 'Quantity': 7}, {'CustomerKey': 266019, 'LineItem': 2, 'OrderDate': '2016-01-01', 'ProductKey': 373, 'CurrencyCode': 'CAD', 'OrderNumber': 366002, 'DeliveryDate': '2016-01-12', 'StoreKey': 0, 'Quantity': 1}]\n"
     ]
    }
   ],
   "source": [
    "response = requests.get(f\"{url}/?offset=0&limit=5\")\n",
    "print(response.status_code, response.json())"
   ]
  },
  {
   "cell_type": "markdown",
   "id": "64111c02",
   "metadata": {},
   "source": [
    "## Get Sale by ID"
   ]
  },
  {
   "cell_type": "code",
   "execution_count": 14,
   "id": "7a6afee3",
   "metadata": {},
   "outputs": [
    {
     "name": "stdout",
     "output_type": "stream",
     "text": [
      "200 {'CustomerKey': 2096178, 'LineItem': 1, 'OrderDate': '2024-02-10', 'ProductKey': 5001, 'CurrencyCode': 'USD', 'OrderNumber': 1001, 'DeliveryDate': '2024-02-15', 'StoreKey': 15, 'Quantity': 2}\n"
     ]
    }
   ],
   "source": [
    "order_number = 1001\n",
    "line_item = 1\n",
    "response = requests.get(f\"{url}/{order_number}/{line_item}\")\n",
    "print(response.status_code, response.json())"
   ]
  },
  {
   "cell_type": "markdown",
   "id": "3e89859a",
   "metadata": {},
   "source": [
    "## Delete a Sale"
   ]
  },
  {
   "cell_type": "code",
   "execution_count": 15,
   "id": "21972e6c",
   "metadata": {},
   "outputs": [
    {
     "name": "stdout",
     "output_type": "stream",
     "text": [
      "200 {'message': 'Sale deleted successfully'}\n"
     ]
    }
   ],
   "source": [
    "order_number = 1001\n",
    "line_item = 1\n",
    "response = requests.delete(f\"{url}/{order_number}/{line_item}\")\n",
    "print(response.status_code, response.json())"
   ]
  }
 ],
 "metadata": {
  "kernelspec": {
   "display_name": "venv",
   "language": "python",
   "name": "python3"
  },
  "language_info": {
   "codemirror_mode": {
    "name": "ipython",
    "version": 3
   },
   "file_extension": ".py",
   "mimetype": "text/x-python",
   "name": "python",
   "nbconvert_exporter": "python",
   "pygments_lexer": "ipython3",
   "version": "3.11.11"
  }
 },
 "nbformat": 4,
 "nbformat_minor": 5
}
