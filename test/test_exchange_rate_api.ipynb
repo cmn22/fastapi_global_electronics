{
 "cells": [
  {
   "cell_type": "code",
   "execution_count": 1,
   "id": "373949b1",
   "metadata": {},
   "outputs": [],
   "source": [
    "import requests\n",
    "import json\n",
    "\n",
    "url = \"http://127.0.0.1:8000/exchange-rates\""
   ]
  },
  {
   "cell_type": "markdown",
   "id": "7775e4e2",
   "metadata": {},
   "source": [
    "## Create a Exchange Rate"
   ]
  },
  {
   "cell_type": "code",
   "execution_count": 2,
   "id": "7a4cdae0",
   "metadata": {},
   "outputs": [
    {
     "name": "stdout",
     "output_type": "stream",
     "text": [
      "200 {'Currency': 'USD', 'Exchange': 1.1, 'Date': '2024-02-10'}\n"
     ]
    }
   ],
   "source": [
    "payload = {\n",
    "    \"Date\": \"2024-02-10\",\n",
    "    \"Currency\": \"USD\",\n",
    "    \"Exchange\": 1.1\n",
    "}\n",
    "response = requests.post(f\"{url}/\", json=payload)\n",
    "print(response.status_code, response.json())"
   ]
  },
  {
   "cell_type": "markdown",
   "id": "9627e84d",
   "metadata": {},
   "source": [
    "## Get All Exchange Rates"
   ]
  },
  {
   "cell_type": "code",
   "execution_count": 3,
   "id": "842b681b",
   "metadata": {},
   "outputs": [
    {
     "name": "stdout",
     "output_type": "stream",
     "text": [
      "200 [{'Currency': 'USD', 'Exchange': 1.0, 'Date': '2015-01-01'}, {'Currency': 'CAD', 'Exchange': 1.1583, 'Date': '2015-01-01'}, {'Currency': 'AUD', 'Exchange': 1.2214, 'Date': '2015-01-01'}, {'Currency': 'EUR', 'Exchange': 0.8237, 'Date': '2015-01-01'}, {'Currency': 'GBP', 'Exchange': 0.6415, 'Date': '2015-01-01'}]\n"
     ]
    }
   ],
   "source": [
    "response = requests.get(f\"{url}/?offset=0&limit=5\")\n",
    "print(response.status_code, response.json())"
   ]
  },
  {
   "cell_type": "markdown",
   "id": "64111c02",
   "metadata": {},
   "source": [
    "## Get Exchange Rate by Date and Currency"
   ]
  },
  {
   "cell_type": "code",
   "execution_count": 4,
   "id": "7a6afee3",
   "metadata": {},
   "outputs": [
    {
     "name": "stdout",
     "output_type": "stream",
     "text": [
      "200 {'Currency': 'USD', 'Exchange': 1.1, 'Date': '2024-02-10'}\n"
     ]
    }
   ],
   "source": [
    "date = \"2024-02-10\"\n",
    "currency = \"USD\"\n",
    "response = requests.get(f\"{url}/{date}/{currency}\")\n",
    "print(response.status_code, response.json())"
   ]
  },
  {
   "cell_type": "markdown",
   "id": "60462cd6",
   "metadata": {},
   "source": [
    "## Update Exchange Rate"
   ]
  },
  {
   "cell_type": "code",
   "execution_count": 5,
   "id": "02414cf8",
   "metadata": {},
   "outputs": [
    {
     "name": "stdout",
     "output_type": "stream",
     "text": [
      "200 {'Currency': 'USD', 'Exchange': 1.2, 'Date': '2024-02-10'}\n"
     ]
    }
   ],
   "source": [
    "date = \"2024-02-10\"\n",
    "currency = \"USD\"\n",
    "payload = {\n",
    "    \"Date\": \"2024-02-10\",\n",
    "    \"Currency\": \"USD\",\n",
    "    \"Exchange\": 1.2\n",
    "}\n",
    "response = requests.put(f\"{url}/{date}/{currency}\", json=payload)\n",
    "print(response.status_code, response.json())"
   ]
  },
  {
   "cell_type": "markdown",
   "id": "3e89859a",
   "metadata": {},
   "source": [
    "## Delete Exchange Rate"
   ]
  },
  {
   "cell_type": "code",
   "execution_count": 6,
   "id": "21972e6c",
   "metadata": {},
   "outputs": [
    {
     "name": "stdout",
     "output_type": "stream",
     "text": [
      "200 {'message': 'Exchange rate deleted successfully'}\n"
     ]
    }
   ],
   "source": [
    "date = \"2024-02-10\"\n",
    "currency = \"USD\"\n",
    "response = requests.delete(f\"{url}/{date}/{currency}\")\n",
    "print(response.status_code, response.json())"
   ]
  }
 ],
 "metadata": {
  "kernelspec": {
   "display_name": "venv",
   "language": "python",
   "name": "python3"
  },
  "language_info": {
   "codemirror_mode": {
    "name": "ipython",
    "version": 3
   },
   "file_extension": ".py",
   "mimetype": "text/x-python",
   "name": "python",
   "nbconvert_exporter": "python",
   "pygments_lexer": "ipython3",
   "version": "3.11.11"
  }
 },
 "nbformat": 4,
 "nbformat_minor": 5
}
