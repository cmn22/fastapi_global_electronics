{
 "cells": [
  {
   "cell_type": "code",
   "execution_count": 1,
   "id": "373949b1",
   "metadata": {},
   "outputs": [],
   "source": [
    "import requests\n",
    "import json\n",
    "\n",
    "url = 'http://127.0.0.1:8000/customers'"
   ]
  },
  {
   "cell_type": "markdown",
   "id": "7775e4e2",
   "metadata": {},
   "source": [
    "## Create a Customer"
   ]
  },
  {
   "cell_type": "code",
   "execution_count": 2,
   "id": "7a4cdae0",
   "metadata": {},
   "outputs": [
    {
     "name": "stdout",
     "output_type": "stream",
     "text": [
      "200 {'CustomerKey': 1, 'Name': 'Alice Doe', 'State': 'New York', 'Country': 'USA', 'Birthday': '1990-01-01', 'Gender': 'Female', 'StateCode': 'NY', 'City': 'New York', 'ZipCode': '10001', 'Continent': 'North America'}\n"
     ]
    }
   ],
   "source": [
    "payload = {\n",
    "    \"CustomerKey\": 1,\n",
    "    \"Name\": \"Alice Doe\",\n",
    "    \"Gender\": \"Female\",\n",
    "    \"City\": \"New York\",\n",
    "    \"StateCode\": \"NY\",\n",
    "    \"State\": \"New York\",\n",
    "    \"ZipCode\": \"10001\",\n",
    "    \"Country\": \"USA\",\n",
    "    \"Continent\": \"North America\",\n",
    "    \"Birthday\": \"1990-01-01\"\n",
    "}\n",
    "response = requests.post(f\"{url}/\", json=payload)\n",
    "print(response.status_code, response.json())"
   ]
  },
  {
   "cell_type": "markdown",
   "id": "9627e84d",
   "metadata": {},
   "source": [
    "## Get All Customer"
   ]
  },
  {
   "cell_type": "code",
   "execution_count": 3,
   "id": "842b681b",
   "metadata": {},
   "outputs": [
    {
     "name": "stdout",
     "output_type": "stream",
     "text": [
      "200 [{'CustomerKey': 1, 'Name': 'Alice Doe', 'State': 'New York', 'Country': 'USA', 'Birthday': '1990-01-01', 'Gender': 'Female', 'StateCode': 'NY', 'City': 'New York', 'ZipCode': '10001', 'Continent': 'North America'}, {'CustomerKey': 301, 'Name': 'Lilly Harding', 'State': 'South Australia', 'Country': 'Australia', 'Birthday': '1939-07-03', 'Gender': 'Female', 'StateCode': 'SA', 'City': 'WANDEARAH EAST', 'ZipCode': '5523', 'Continent': 'Australia'}, {'CustomerKey': 325, 'Name': 'Madison Hull', 'State': 'Western Australia', 'Country': 'Australia', 'Birthday': '1979-09-27', 'Gender': 'Female', 'StateCode': 'WA', 'City': 'MOUNT BUDD', 'ZipCode': '6522', 'Continent': 'Australia'}, {'CustomerKey': 554, 'Name': 'Claire Ferres', 'State': 'Victoria', 'Country': 'Australia', 'Birthday': '1947-05-26', 'Gender': 'Female', 'StateCode': 'VIC', 'City': 'WINJALLOK', 'ZipCode': '3380', 'Continent': 'Australia'}, {'CustomerKey': 786, 'Name': 'Jai Poltpalingada', 'State': 'South Australia', 'Country': 'Australia', 'Birthday': '1957-09-17', 'Gender': 'Male', 'StateCode': 'SA', 'City': 'MIDDLE RIVER', 'ZipCode': '5223', 'Continent': 'Australia'}]\n"
     ]
    }
   ],
   "source": [
    "response = requests.get(f\"{url}/?offset=0&limit=5\")\n",
    "print(response.status_code, response.json())"
   ]
  },
  {
   "cell_type": "markdown",
   "id": "64111c02",
   "metadata": {},
   "source": [
    "## Get Customer by ID"
   ]
  },
  {
   "cell_type": "code",
   "execution_count": 4,
   "id": "7a6afee3",
   "metadata": {},
   "outputs": [
    {
     "name": "stdout",
     "output_type": "stream",
     "text": [
      "200 {'CustomerKey': 1, 'Name': 'Alice Doe', 'State': 'New York', 'Country': 'USA', 'Birthday': '1990-01-01', 'Gender': 'Female', 'StateCode': 'NY', 'City': 'New York', 'ZipCode': '10001', 'Continent': 'North America'}\n"
     ]
    }
   ],
   "source": [
    "customer_id = 1\n",
    "response = requests.get(f\"{url}/{customer_id}\")\n",
    "print(response.status_code, response.json())"
   ]
  },
  {
   "cell_type": "markdown",
   "id": "ccefabcd",
   "metadata": {},
   "source": [
    "## Update a Customer"
   ]
  },
  {
   "cell_type": "code",
   "execution_count": 5,
   "id": "6076aaea",
   "metadata": {},
   "outputs": [
    {
     "name": "stdout",
     "output_type": "stream",
     "text": [
      "200 {'CustomerKey': 1, 'Name': 'Alice Updated', 'State': 'New York', 'Country': 'USA', 'Birthday': '1990-01-01', 'Gender': 'Female', 'StateCode': 'NY', 'City': 'New York', 'ZipCode': '10001', 'Continent': 'North America'}\n"
     ]
    }
   ],
   "source": [
    "customer_id = 1\n",
    "payload[\"Name\"] = \"Alice Updated\"\n",
    "response = requests.put(f\"{url}/{customer_id}\", json=payload)\n",
    "print(response.status_code, response.json())"
   ]
  },
  {
   "cell_type": "markdown",
   "id": "3e89859a",
   "metadata": {},
   "source": [
    "## Delete a Customer"
   ]
  },
  {
   "cell_type": "code",
   "execution_count": 6,
   "id": "21972e6c",
   "metadata": {},
   "outputs": [
    {
     "name": "stdout",
     "output_type": "stream",
     "text": [
      "200 {'message': 'Customer deleted successfully'}\n"
     ]
    }
   ],
   "source": [
    "customer_id = 1\n",
    "response = requests.delete(f\"{url}/{customer_id}\")\n",
    "print(response.status_code, response.json())"
   ]
  }
 ],
 "metadata": {
  "kernelspec": {
   "display_name": "venv",
   "language": "python",
   "name": "python3"
  },
  "language_info": {
   "codemirror_mode": {
    "name": "ipython",
    "version": 3
   },
   "file_extension": ".py",
   "mimetype": "text/x-python",
   "name": "python",
   "nbconvert_exporter": "python",
   "pygments_lexer": "ipython3",
   "version": "3.11.11"
  }
 },
 "nbformat": 4,
 "nbformat_minor": 5
}
