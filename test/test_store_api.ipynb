{
 "cells": [
  {
   "cell_type": "code",
   "execution_count": 3,
   "id": "373949b1",
   "metadata": {},
   "outputs": [],
   "source": [
    "import requests\n",
    "import json\n",
    "\n",
    "url = \"http://127.0.0.1:8000/stores\""
   ]
  },
  {
   "cell_type": "markdown",
   "id": "7775e4e2",
   "metadata": {},
   "source": [
    "## Create a Store"
   ]
  },
  {
   "cell_type": "code",
   "execution_count": 4,
   "id": "7a4cdae0",
   "metadata": {},
   "outputs": [
    {
     "name": "stdout",
     "output_type": "stream",
     "text": [
      "200 {'OpenDate': '2024-01-15', 'StoreKey': 201, 'State': 'California', 'Country': 'United States', 'SquareMeters': 1500}\n"
     ]
    }
   ],
   "source": [
    "payload = {\n",
    "    \"StoreKey\": 201,\n",
    "    \"Country\": \"United States\",\n",
    "    \"State\": \"California\",\n",
    "    \"SquareMeters\": 1500,\n",
    "    \"OpenDate\": \"2024-01-15\"\n",
    "}\n",
    "response = requests.post(f\"{url}/\", json=payload)\n",
    "print(response.status_code, response.json())"
   ]
  },
  {
   "cell_type": "markdown",
   "id": "9627e84d",
   "metadata": {},
   "source": [
    "## Get All Stores"
   ]
  },
  {
   "cell_type": "code",
   "execution_count": 5,
   "id": "842b681b",
   "metadata": {},
   "outputs": [
    {
     "name": "stdout",
     "output_type": "stream",
     "text": [
      "200 [{'OpenDate': '2010-01-01', 'StoreKey': 0, 'State': 'Online', 'Country': 'Online', 'SquareMeters': None}, {'OpenDate': '2008-01-01', 'StoreKey': 1, 'State': 'Australian Capital Territory', 'Country': 'Australia', 'SquareMeters': 595}, {'OpenDate': '2008-01-12', 'StoreKey': 2, 'State': 'Northern Territory', 'Country': 'Australia', 'SquareMeters': 665}, {'OpenDate': '2012-01-07', 'StoreKey': 3, 'State': 'South Australia', 'Country': 'Australia', 'SquareMeters': 2000}, {'OpenDate': '2010-01-01', 'StoreKey': 4, 'State': 'Tasmania', 'Country': 'Australia', 'SquareMeters': 2000}]\n"
     ]
    }
   ],
   "source": [
    "response = requests.get(f\"{url}/?offset=0&limit=5\")\n",
    "print(response.status_code, response.json())"
   ]
  },
  {
   "cell_type": "markdown",
   "id": "64111c02",
   "metadata": {},
   "source": [
    "## Get Store by ID"
   ]
  },
  {
   "cell_type": "code",
   "execution_count": 6,
   "id": "7a6afee3",
   "metadata": {},
   "outputs": [
    {
     "name": "stdout",
     "output_type": "stream",
     "text": [
      "200 {'OpenDate': '2024-01-15', 'StoreKey': 201, 'State': 'California', 'Country': 'United States', 'SquareMeters': 1500}\n"
     ]
    }
   ],
   "source": [
    "store_id = 201\n",
    "response = requests.get(f\"{url}/{store_id}\")\n",
    "print(response.status_code, response.json())"
   ]
  },
  {
   "cell_type": "markdown",
   "id": "3e89859a",
   "metadata": {},
   "source": [
    "## Delete a Store"
   ]
  },
  {
   "cell_type": "code",
   "execution_count": 7,
   "id": "21972e6c",
   "metadata": {},
   "outputs": [
    {
     "name": "stdout",
     "output_type": "stream",
     "text": [
      "200 {'message': 'Store deleted successfully'}\n"
     ]
    }
   ],
   "source": [
    "store_id = 201\n",
    "response = requests.delete(f\"{url}/{store_id}\")\n",
    "print(response.status_code, response.json())"
   ]
  }
 ],
 "metadata": {
  "kernelspec": {
   "display_name": "venv",
   "language": "python",
   "name": "python3"
  },
  "language_info": {
   "codemirror_mode": {
    "name": "ipython",
    "version": 3
   },
   "file_extension": ".py",
   "mimetype": "text/x-python",
   "name": "python",
   "nbconvert_exporter": "python",
   "pygments_lexer": "ipython3",
   "version": "3.11.11"
  }
 },
 "nbformat": 4,
 "nbformat_minor": 5
}
