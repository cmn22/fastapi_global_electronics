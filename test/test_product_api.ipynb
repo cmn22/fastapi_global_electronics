{
 "cells": [
  {
   "cell_type": "code",
   "execution_count": 6,
   "id": "373949b1",
   "metadata": {},
   "outputs": [],
   "source": [
    "import requests\n",
    "import json\n",
    "\n",
    "url = 'http://127.0.0.1:8000/products'"
   ]
  },
  {
   "cell_type": "markdown",
   "id": "7775e4e2",
   "metadata": {},
   "source": [
    "## Create a Product"
   ]
  },
  {
   "cell_type": "code",
   "execution_count": 7,
   "id": "7a4cdae0",
   "metadata": {},
   "outputs": [
    {
     "name": "stdout",
     "output_type": "stream",
     "text": [
      "200 {'Brand': 'Dell', 'UnitPrice': 700.0, 'ProductName': 'Laptop', 'SubCategoryKey': 20, 'UnitCost': 500.0, 'ProductKey': 0, 'CategoryKey': 10}\n"
     ]
    }
   ],
   "source": [
    "payload = {\n",
    "    \"ProductKey\": 0,\n",
    "    \"ProductName\": \"Laptop\",\n",
    "    \"Brand\": \"Dell\",\n",
    "    \"UnitCost\": 500.00,\n",
    "    \"UnitPrice\": 700.00,\n",
    "    \"CategoryKey\": 10,\n",
    "    \"SubCategoryKey\": 20\n",
    "}\n",
    "response = requests.post(f\"{url}/\", json=payload)\n",
    "print(response.status_code, response.json())"
   ]
  },
  {
   "cell_type": "markdown",
   "id": "9627e84d",
   "metadata": {},
   "source": [
    "## Get All Product"
   ]
  },
  {
   "cell_type": "code",
   "execution_count": 8,
   "id": "842b681b",
   "metadata": {},
   "outputs": [
    {
     "name": "stdout",
     "output_type": "stream",
     "text": [
      "200 [{'Brand': 'Dell', 'UnitPrice': 700.0, 'ProductName': 'Laptop', 'SubCategoryKey': 20, 'UnitCost': 500.0, 'ProductKey': 0, 'CategoryKey': 10}, {'Brand': 'Contoso', 'UnitPrice': 12.99, 'ProductName': 'Contoso 512MB MP3 Player E51 Silver', 'SubCategoryKey': 101, 'UnitCost': 6.62, 'ProductKey': 1, 'CategoryKey': 1}, {'Brand': 'Contoso', 'UnitPrice': 12.99, 'ProductName': 'Contoso 512MB MP3 Player E51 Blue', 'SubCategoryKey': 101, 'UnitCost': 6.62, 'ProductKey': 2, 'CategoryKey': 1}, {'Brand': 'Contoso', 'UnitPrice': 14.52, 'ProductName': 'Contoso 1G MP3 Player E100 White', 'SubCategoryKey': 101, 'UnitCost': 7.4, 'ProductKey': 3, 'CategoryKey': 1}, {'Brand': 'Contoso', 'UnitPrice': 21.57, 'ProductName': 'Contoso 2G MP3 Player E200 Silver', 'SubCategoryKey': 101, 'UnitCost': 11.0, 'ProductKey': 4, 'CategoryKey': 1}]\n"
     ]
    }
   ],
   "source": [
    "response = requests.get(f\"{url}/?offset=0&limit=5\")\n",
    "print(response.status_code, response.json())"
   ]
  },
  {
   "cell_type": "markdown",
   "id": "64111c02",
   "metadata": {},
   "source": [
    "## Get Product by ID"
   ]
  },
  {
   "cell_type": "code",
   "execution_count": 9,
   "id": "7a6afee3",
   "metadata": {},
   "outputs": [
    {
     "name": "stdout",
     "output_type": "stream",
     "text": [
      "200 {'Brand': 'Dell', 'UnitPrice': 700.0, 'ProductName': 'Laptop', 'SubCategoryKey': 20, 'UnitCost': 500.0, 'ProductKey': 0, 'CategoryKey': 10}\n"
     ]
    }
   ],
   "source": [
    "product_id = 0\n",
    "response = requests.get(f\"{url}/{product_id}\")\n",
    "print(response.status_code, response.json())"
   ]
  },
  {
   "cell_type": "markdown",
   "id": "ccefabcd",
   "metadata": {},
   "source": [
    "## Update a Product"
   ]
  },
  {
   "cell_type": "code",
   "execution_count": 10,
   "id": "6076aaea",
   "metadata": {},
   "outputs": [
    {
     "name": "stdout",
     "output_type": "stream",
     "text": [
      "200 {'Brand': 'Dell', 'UnitPrice': 700.0, 'ProductName': 'Gaming Laptop', 'SubCategoryKey': 20, 'UnitCost': 500.0, 'ProductKey': 0, 'CategoryKey': 10}\n"
     ]
    }
   ],
   "source": [
    "product_id = 0\n",
    "payload[\"ProductName\"] = \"Gaming Laptop\"\n",
    "response = requests.put(f\"{url}/{product_id}\", json=payload)\n",
    "print(response.status_code, response.json())"
   ]
  },
  {
   "cell_type": "markdown",
   "id": "3e89859a",
   "metadata": {},
   "source": [
    "## Delete a Product"
   ]
  },
  {
   "cell_type": "code",
   "execution_count": 11,
   "id": "21972e6c",
   "metadata": {},
   "outputs": [
    {
     "name": "stdout",
     "output_type": "stream",
     "text": [
      "200 {'message': 'Product deleted successfully'}\n"
     ]
    }
   ],
   "source": [
    "product_id = 0\n",
    "response = requests.delete(f\"{url}/{product_id}\")\n",
    "print(response.status_code, response.json())"
   ]
  }
 ],
 "metadata": {
  "kernelspec": {
   "display_name": "venv",
   "language": "python",
   "name": "python3"
  },
  "language_info": {
   "codemirror_mode": {
    "name": "ipython",
    "version": 3
   },
   "file_extension": ".py",
   "mimetype": "text/x-python",
   "name": "python",
   "nbconvert_exporter": "python",
   "pygments_lexer": "ipython3",
   "version": "3.11.11"
  }
 },
 "nbformat": 4,
 "nbformat_minor": 5
}
